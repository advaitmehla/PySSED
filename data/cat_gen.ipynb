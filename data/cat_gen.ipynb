{
 "cells": [
  {
   "cell_type": "code",
   "execution_count": 69,
   "metadata": {},
   "outputs": [],
   "source": [
    "import numpy as np\n",
    "import pandas as pd\n",
    "from astroquery.vizier import Vizier\n",
    "from astroquery.simbad import Simbad\n",
    "import astropy.units as u\n",
    "from astropy.coordinates import SkyCoord"
   ]
  },
  {
   "cell_type": "code",
   "execution_count": 76,
   "metadata": {},
   "outputs": [
    {
     "name": "stderr",
     "output_type": "stream",
     "text": [
      "/tmp/ipykernel_14661/1179649066.py:3: FutureWarning: The behavior of DataFrame concatenation with empty or all-NA entries is deprecated. In a future version, this will no longer exclude empty or all-NA columns when determining the result dtypes. To retain the old behavior, exclude the relevant entries before the concat operation.\n",
      "  cat = pd.concat([cat, pd.DataFrame({'# Name': 'HD 70138', 'RA': 124.93, 'Dec': -18.2647, 'Kdmag': 50, 'e_Kdmag' : 0.01}, index=[0])])\n"
     ]
    }
   ],
   "source": [
    "# cat = pd.concat(cat, pd.DataFrame({'Name': 'Betelgeuse', 'RA': 88.7930621799892, 'Dec': 7.407114111111111, 'mag': 50}, index=[0]))\n",
    "cat = pd.DataFrame(columns = ['# Name', 'RA', 'Dec', 'Kdmag', 'e_Kdmag'])\n",
    "cat = pd.concat([cat, pd.DataFrame({'# Name': 'HD 70138', 'RA': 124.93, 'Dec': -18.2647, 'Kdmag': 50, 'e_Kdmag' : 0.01}, index=[0])])"
   ]
  },
  {
   "cell_type": "code",
   "execution_count": 77,
   "metadata": {},
   "outputs": [
    {
     "data": {
      "text/html": [
       "<div>\n",
       "<style scoped>\n",
       "    .dataframe tbody tr th:only-of-type {\n",
       "        vertical-align: middle;\n",
       "    }\n",
       "\n",
       "    .dataframe tbody tr th {\n",
       "        vertical-align: top;\n",
       "    }\n",
       "\n",
       "    .dataframe thead th {\n",
       "        text-align: right;\n",
       "    }\n",
       "</style>\n",
       "<table border=\"1\" class=\"dataframe\">\n",
       "  <thead>\n",
       "    <tr style=\"text-align: right;\">\n",
       "      <th></th>\n",
       "      <th># Name</th>\n",
       "      <th>RA</th>\n",
       "      <th>Dec</th>\n",
       "      <th>Kdmag</th>\n",
       "      <th>e_Kdmag</th>\n",
       "    </tr>\n",
       "  </thead>\n",
       "  <tbody>\n",
       "    <tr>\n",
       "      <th>0</th>\n",
       "      <td>HD 70138</td>\n",
       "      <td>124.93</td>\n",
       "      <td>-18.2647</td>\n",
       "      <td>50</td>\n",
       "      <td>0.01</td>\n",
       "    </tr>\n",
       "  </tbody>\n",
       "</table>\n",
       "</div>"
      ],
      "text/plain": [
       "     # Name      RA      Dec Kdmag  e_Kdmag\n",
       "0  HD 70138  124.93 -18.2647    50     0.01"
      ]
     },
     "execution_count": 77,
     "metadata": {},
     "output_type": "execute_result"
    }
   ],
   "source": [
    "cat"
   ]
  },
  {
   "cell_type": "code",
   "execution_count": 78,
   "metadata": {},
   "outputs": [],
   "source": [
    "cat.to_csv(\"cryoscope.txt\", sep = \"\\t\", index = False)"
   ]
  },
  {
   "cell_type": "code",
   "execution_count": 47,
   "metadata": {},
   "outputs": [
    {
     "data": {
      "text/plain": [
       "array([      nan,       nan,       nan,       nan, 2.016e+03, 5.000e-01,\n",
       "       4.000e-01])"
      ]
     },
     "execution_count": 47,
     "metadata": {},
     "output_type": "execute_result"
    }
   ],
   "source": [
    "aa = np.genfromtxt(\"/media/advait/DATA/research/cryoscope/PySSED/src/catalogues.new\", comments=\"#\")\n",
    "aa[0]"
   ]
  },
  {
   "cell_type": "code",
   "execution_count": 75,
   "metadata": {},
   "outputs": [
    {
     "data": {
      "text/plain": [
       "('124.93', '-18.2647')"
      ]
     },
     "execution_count": 75,
     "metadata": {},
     "output_type": "execute_result"
    }
   ],
   "source": [
    "s = Simbad()\n",
    "result = s.query_object(\"HD 70138\")\n",
    "ra_hms, dec_dms = result[\"RA\"][0], result[\"DEC\"][0]\n",
    "ra, dec = SkyCoord(ra_hms, dec_dms, unit=(u.hourangle, u.deg)).to_string('decimal').split()\n",
    "ra, dec"
   ]
  },
  {
   "cell_type": "code",
   "execution_count": 102,
   "metadata": {},
   "outputs": [
    {
     "data": {
      "text/latex": [
       "$1.0479689 \\times 10^{-9} \\; \\mathrm{\\frac{erg}{s\\,cm^{2}}}$"
      ],
      "text/plain": [
       "<Quantity 1.04796886e-09 erg / (s cm2)>"
      ]
     },
     "execution_count": 102,
     "metadata": {},
     "output_type": "execute_result"
    }
   ],
   "source": [
    "fmodel = 7.7479815*u.Jy\n",
    "alamb = fmodel.to(u.erg/u.s/u.cm**2/u.AA, equivalencies=u.spectral_density(23683.23*u.AA))\n",
    "dw = 2530.5852*u.AA\n",
    "a = alamb*dw\n",
    "a"
   ]
  },
  {
   "cell_type": "code",
   "execution_count": 103,
   "metadata": {},
   "outputs": [
    {
     "data": {
      "text/plain": [
       "0.09995718320114413"
      ]
     },
     "execution_count": 103,
     "metadata": {},
     "output_type": "execute_result"
    }
   ],
   "source": [
    "(a.value-9.52736045e-10)/9.52736045e-10"
   ]
  },
  {
   "cell_type": "code",
   "execution_count": 88,
   "metadata": {},
   "outputs": [
    {
     "data": {
      "text/plain": [
       "0.19297996146675908"
      ]
     },
     "execution_count": 88,
     "metadata": {},
     "output_type": "execute_result"
    }
   ],
   "source": [
    "(1.1365950102520925e-09-9.52736045e-10)/9.52736045e-10"
   ]
  },
  {
   "cell_type": "code",
   "execution_count": 82,
   "metadata": {},
   "outputs": [
    {
     "data": {
      "text/plain": [
       "0.18000000000000016"
      ]
     },
     "execution_count": 82,
     "metadata": {},
     "output_type": "execute_result"
    }
   ],
   "source": [
    "2.45-2.27"
   ]
  },
  {
   "cell_type": "code",
   "execution_count": 59,
   "metadata": {},
   "outputs": [],
   "source": [
    "colnames = ['# Name', 'RA', 'Dec', 'Kdmag', 'e_Kdmag']\n",
    "data = ['Betelgeuse', 88.793, 7.407, 50, 0.2]\n",
    "colnames, data = np.array(colnames), np.array(data)\n",
    "# data = np.array([data])\n",
    "data = np.vstack((colnames, data))\n",
    "np.savetxt(\"cryoscope.txt\", data, fmt = \"%s\", delimiter = \"\\t\")"
   ]
  },
  {
   "cell_type": "code",
   "execution_count": 56,
   "metadata": {},
   "outputs": [
    {
     "data": {
      "text/plain": [
       "array(['# Name', 'RA', 'Dec', 'mag'], dtype='<U32')"
      ]
     },
     "execution_count": 56,
     "metadata": {},
     "output_type": "execute_result"
    }
   ],
   "source": [
    "data[0]"
   ]
  },
  {
   "cell_type": "code",
   "execution_count": 42,
   "metadata": {},
   "outputs": [
    {
     "data": {
      "text/plain": [
       "array(['# Name', 'RA', 'Dec', 'mag'], dtype='<U6')"
      ]
     },
     "execution_count": 42,
     "metadata": {},
     "output_type": "execute_result"
    }
   ],
   "source": [
    "colnames"
   ]
  },
  {
   "cell_type": "code",
   "execution_count": 118,
   "metadata": {},
   "outputs": [
    {
     "data": {
      "text/plain": [
       "['HD 182694',\n",
       " 'HD 27277',\n",
       " 'HD 135153',\n",
       " 'HD 6130',\n",
       " 'HD 13174',\n",
       " 'HD 108519',\n",
       " 'HD 87822',\n",
       " 'HD 16232',\n",
       " 'HD 17918',\n",
       " 'HD 218804',\n",
       " 'HD 27524',\n",
       " 'HD 75555',\n",
       " 'HD 160365',\n",
       " 'HD 51956',\n",
       " 'HD 220657',\n",
       " 'HD 111844',\n",
       " 'HD 219623',\n",
       " 'HD 102870',\n",
       " 'HD 6903',\n",
       " 'HD 176051',\n",
       " 'HD 165908',\n",
       " 'HD 74395',\n",
       " 'HD 216219',\n",
       " 'HD 21018',\n",
       " 'HD 10307',\n",
       " 'HD 95128',\n",
       " 'HD 20619',\n",
       " 'HD 42454',\n",
       " 'HD 39949',\n",
       " 'HD 3421',\n",
       " 'HD 219477',\n",
       " 'HD 10697',\n",
       " 'HD 94481',\n",
       " 'HD 108477',\n",
       " 'HD 214850',\n",
       " 'HD 18474',\n",
       " 'HD 193896',\n",
       " 'HD 202314',\n",
       " 'HD 58367',\n",
       " 'HD 115617',\n",
       " 'HD 20618',\n",
       " 'HD 114946',\n",
       " 'HD 16139',\n",
       " 'HD 104979',\n",
       " 'HD 222093',\n",
       " 'HD 179870',\n",
       " 'HD 100006',\n",
       " 'HD 145675',\n",
       " 'HD 164349',\n",
       " 'HD 9852',\n",
       " 'HD 91810',\n",
       " 'HD 25975',\n",
       " 'HD 165438',\n",
       " 'HD 2901',\n",
       " 'HD 132935',\n",
       " 'HD 16068',\n",
       " 'HD 221246',\n",
       " 'HD 99998',\n",
       " 'HD 114960',\n",
       " 'HD 45977',\n",
       " 'HD 36003',\n",
       " 'HD 237903',\n",
       " 'HD 213893',\n",
       " 'HD 19305',\n",
       " 'HD 209290',\n",
       " 'Gl 273',\n",
       " 'LP 412-31',\n",
       " 'DENIS J104814.6-395606',\n",
       " 'LP 944-20',\n",
       " 'RAFGL 1686',\n",
       " 'HD 76846',\n",
       " '2MASS J07464256+2000321',\n",
       " '2MASS J14392836+1929149',\n",
       " '2MASS J02081833+2542533',\n",
       " 'Kelu 1',\n",
       " '2MASS J11463449+2230527',\n",
       " '2MASS J15065441+1321060',\n",
       " '2MASS J00361617+1821104',\n",
       " '2MASS J22244381-0158521',\n",
       " '2MASS J15074769-1627386',\n",
       " 'SDSS J053951.99-005902.0',\n",
       " '2MASS J15150083+4847416',\n",
       " '2MASS J08251968+2115521',\n",
       " 'DENIS J025503.3-470049',\n",
       " 'SDSS J125453.90-012247.4',\n",
       " '2MASS J05591914-1404488']"
      ]
     },
     "execution_count": 118,
     "metadata": {},
     "output_type": "execute_result"
    }
   ],
   "source": [
    "obj_list = \"/media/advait/DATA/research/cryoscope/PySSED/src/objects2.list\"\n",
    "with open(obj_list, \"r\") as f:\n",
    "    objects = f.readlines()\n",
    "objects = [obj.strip() for obj in objects]\n",
    "objects"
   ]
  },
  {
   "cell_type": "code",
   "execution_count": 120,
   "metadata": {},
   "outputs": [
    {
     "name": "stderr",
     "output_type": "stream",
     "text": [
      "/tmp/ipykernel_14661/1177993723.py:10: FutureWarning: The behavior of DataFrame concatenation with empty or all-NA entries is deprecated. In a future version, this will no longer exclude empty or all-NA columns when determining the result dtypes. To retain the old behavior, exclude the relevant entries before the concat operation.\n",
      "  cat = pd.concat([cat, pd.DataFrame({'# Name': obj, 'RA': ra, 'Dec': dec, 'Kdmag': 50, 'e_Kdmag' : 0.01}, index=[0])])\n"
     ]
    }
   ],
   "source": [
    "cat = pd.DataFrame(columns = ['# Name', 'RA', 'Dec', 'Kdmag', 'e_Kdmag'])\n",
    "for obj in objects:\n",
    "    try:\n",
    "        result = s.query_object(obj)\n",
    "    except:\n",
    "        print(\"Error in querying object: \", obj)\n",
    "        continue\n",
    "    ra_hms, dec_dms = result[\"RA\"][0], result[\"DEC\"][0]\n",
    "    ra, dec = SkyCoord(ra_hms, dec_dms, unit=(u.hourangle, u.deg)).to_string('decimal').split()\n",
    "    cat = pd.concat([cat, pd.DataFrame({'# Name': obj, 'RA': ra, 'Dec': dec, 'Kdmag': 50, 'e_Kdmag' : 0.01}, index=[0])])\n",
    "cat.to_csv(\"cryoscope.txt\", sep = \"\\t\", index = False)"
   ]
  },
  {
   "cell_type": "code",
   "execution_count": null,
   "metadata": {},
   "outputs": [],
   "source": []
  }
 ],
 "metadata": {
  "kernelspec": {
   "display_name": "astro",
   "language": "python",
   "name": "python3"
  },
  "language_info": {
   "codemirror_mode": {
    "name": "ipython",
    "version": 3
   },
   "file_extension": ".py",
   "mimetype": "text/x-python",
   "name": "python",
   "nbconvert_exporter": "python",
   "pygments_lexer": "ipython3",
   "version": "3.12.3"
  }
 },
 "nbformat": 4,
 "nbformat_minor": 2
}
